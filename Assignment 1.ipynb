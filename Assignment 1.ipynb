{
 "cells": [
  {
   "cell_type": "markdown",
   "metadata": {},
   "source": [
    "# Assignment - 1 Bayesian Decision Theory\n",
    "\n",
    "In this assignment we apply discriminant analysis to recognize the digits in the MNIST datas set. We are using 60000 digit images as the training set while there are 10000 digit images as the testing set which are of 28 x 28 vector. We consider this vector as the features of the digit images. "
   ]
  },
  {
   "cell_type": "code",
   "execution_count": 726,
   "metadata": {
    "ExecuteTime": {
     "end_time": "2019-03-01T22:00:42.870396Z",
     "start_time": "2019-03-01T22:00:42.865582Z"
    }
   },
   "outputs": [],
   "source": [
    "from mlxtend.data import loadlocal_mnist\n",
    "import numpy as np\n",
    "import pandas as pd\n",
    "from matplotlib import pyplot as plt\n",
    "import cv2 as cv\n",
    "import math\n",
    "from sklearn.discriminant_analysis import LinearDiscriminantAnalysis\n",
    "from numpy.linalg import inv"
   ]
  },
  {
   "cell_type": "markdown",
   "metadata": {},
   "source": [
    "## Part 1 - Mean Digits and Standard Deviation Digits\n",
    "\n",
    "First, we calculate the mean digits of the digits (0-9). We do this by first seperating the training data set into its corresponding digit label. Then add all the corresponding features together and divide it by the number of images of that digit class.\n",
    "\n",
    "\\begin{align}\n",
    "\\mu_i = \\frac{\\sum_{N_i}(  x_{ij})}{N_i}\n",
    "\\end{align}\n",
    "\n",
    "Second, we calculate the Standard Deviation by subtracting the Mean of the digit classes from each of the images of that class and squaring the value. We then sum up the values of the corresponding features together and divide by the number of images of that digit class. This gives us the Variance of the digit class. By taking the square root of the value, we arrive at the standard deviation.\n",
    "\n",
    "\\begin{align}\n",
    "    \\sigma_i = \\sqrt{\\frac{ \\sum( x_{ij} - \\mu_i)}{N_i}}\n",
    "\\end{align}\n"
   ]
  },
  {
   "cell_type": "code",
   "execution_count": 727,
   "metadata": {
    "ExecuteTime": {
     "end_time": "2019-03-01T22:01:11.751413Z",
     "start_time": "2019-03-01T22:01:11.681348Z"
    }
   },
   "outputs": [
    {
     "ename": "FileNotFoundError",
     "evalue": "[Errno 2] No such file or directory: 'train-labels-idx1-ubyte'",
     "output_type": "error",
     "traceback": [
      "\u001b[0;31m---------------------------------------------------------------------------\u001b[0m",
      "\u001b[0;31mFileNotFoundError\u001b[0m                         Traceback (most recent call last)",
      "\u001b[0;32m<ipython-input-727-4f8a4d5c735a>\u001b[0m in \u001b[0;36m<module>\u001b[0;34m\u001b[0m\n\u001b[1;32m      1\u001b[0m trainImgs, trainLabels = loadlocal_mnist( \n\u001b[1;32m      2\u001b[0m         \u001b[0mimages_path\u001b[0m\u001b[0;34m=\u001b[0m\u001b[0;34m'train-images-idx3-ubyte'\u001b[0m\u001b[0;34m,\u001b[0m\u001b[0;34m\u001b[0m\u001b[0;34m\u001b[0m\u001b[0m\n\u001b[0;32m----> 3\u001b[0;31m         labels_path='train-labels-idx1-ubyte')\n\u001b[0m\u001b[1;32m      4\u001b[0m testImgs, testLabels = loadlocal_mnist( \n\u001b[1;32m      5\u001b[0m         \u001b[0mimages_path\u001b[0m\u001b[0;34m=\u001b[0m\u001b[0;34m't10k-images-idx3-ubyte'\u001b[0m\u001b[0;34m,\u001b[0m\u001b[0;34m\u001b[0m\u001b[0;34m\u001b[0m\u001b[0m\n",
      "\u001b[0;32m~/anaconda3/lib/python3.7/site-packages/mlxtend/data/local_mnist.py\u001b[0m in \u001b[0;36mloadlocal_mnist\u001b[0;34m(images_path, labels_path)\u001b[0m\n\u001b[1;32m     34\u001b[0m \u001b[0;34m\u001b[0m\u001b[0m\n\u001b[1;32m     35\u001b[0m     \"\"\"\n\u001b[0;32m---> 36\u001b[0;31m     \u001b[0;32mwith\u001b[0m \u001b[0mopen\u001b[0m\u001b[0;34m(\u001b[0m\u001b[0mlabels_path\u001b[0m\u001b[0;34m,\u001b[0m \u001b[0;34m'rb'\u001b[0m\u001b[0;34m)\u001b[0m \u001b[0;32mas\u001b[0m \u001b[0mlbpath\u001b[0m\u001b[0;34m:\u001b[0m\u001b[0;34m\u001b[0m\u001b[0;34m\u001b[0m\u001b[0m\n\u001b[0m\u001b[1;32m     37\u001b[0m         magic, n = struct.unpack('>II',\n\u001b[1;32m     38\u001b[0m                                  lbpath.read(8))\n",
      "\u001b[0;31mFileNotFoundError\u001b[0m: [Errno 2] No such file or directory: 'train-labels-idx1-ubyte'"
     ]
    }
   ],
   "source": [
    "trainImgs, trainLabels = loadlocal_mnist( \n",
    "        images_path='train-images-idx3-ubyte',\n",
    "        labels_path='train-labels-idx1-ubyte')\n",
    "testImgs, testLabels = loadlocal_mnist( \n",
    "        images_path='t10k-images-idx3-ubyte',\n",
    "        labels_path='t10k-labels-idx1-ubyte')\n",
    "\n",
    "\n",
    "imgDF = pd.DataFrame(trainImgs, trainLabels)\n",
    "\n",
    "imgTestDF = pd.DataFrame(testImgs)\n"
   ]
  },
  {
   "cell_type": "code",
   "execution_count": null,
   "metadata": {
    "ExecuteTime": {
     "end_time": "2019-03-01T22:01:11.767614Z",
     "start_time": "2019-03-01T22:00:43.803Z"
    }
   },
   "outputs": [],
   "source": [
    "def calVarianceStd(digitMean, imgClass):\n",
    "    digitMean = digitMean.reshape(1,784)\n",
    "    imgClass = imgClass.values\n",
    "    diff_sq = np.square(imgClass - digitMean)\n",
    "    variance = diff_sq.sum(axis=0)/len(imgClass)\n",
    "    std_deviation = np.sqrt(variance)\n",
    "    return std_deviation.reshape(28,28)\n",
    "    "
   ]
  },
  {
   "cell_type": "code",
   "execution_count": null,
   "metadata": {
    "ExecuteTime": {
     "end_time": "2019-03-01T22:01:11.775132Z",
     "start_time": "2019-03-01T22:00:44.200Z"
    }
   },
   "outputs": [],
   "source": [
    "def printMeanStd():\n",
    "    for i in range(10):\n",
    "        fileNameMean = \"Class \" + str(i)+\" Mean.png\"\n",
    "        cv.imwrite(fileNameMean, imgDigitMean[i])\n",
    "        fileNameStd = \"Class \" + str(i)+\" Std_Dev.png\"\n",
    "        cv.imwrite(fileNameStd, imgDigitStd[i])"
   ]
  },
  {
   "cell_type": "code",
   "execution_count": null,
   "metadata": {
    "ExecuteTime": {
     "end_time": "2019-03-01T22:01:11.783768Z",
     "start_time": "2019-03-01T22:00:44.552Z"
    },
    "scrolled": true
   },
   "outputs": [],
   "source": [
    "imgDigitMean = []\n",
    "imgDigitStd = []\n",
    "\n",
    "for i in range(10):\n",
    "    imgClass = imgDF.loc[i]\n",
    "    imgDigit =  imgClass.sum()/len(imgClass)\n",
    "    imgDigitMean.append(imgDigit.values.reshape(28,28))\n",
    "    imgDigitStd.append(calVarianceStd(imgDigitMean[i], imgClass))\n",
    "\n",
    "printMeanStd()"
   ]
  },
  {
   "attachments": {
    "Class%200%20Mean.png": {
     "image/png": "[encoded data removed]"
    },
    "Class%201%20Mean.png": {
     "image/png": "[encoded data removed]"
    },
    "Class%202%20Mean.png": {
     "image/png": "[encoded data removed]"
    },
    "Class%203%20Mean.png": {
     "image/png": "[encoded data removed]"
    },
    "Class%204%20Mean.png": {
     "image/png": "[encoded data removed]"
    },
    "Class%205%20Mean.png": {
     "image/png": "[encoded data removed]"
    },
    "Class%206%20Mean.png": {
     "image/png": "[encoded data removed]"
    },
    "Class%207%20Mean.png": {
     "image/png": "[encoded data removed]"
    },
    "Class%208%20Mean.png": {
     "image/png": "[encoded data removed]"
    },
    "Class%209%20Mean.png": {
     "image/png": "[encoded data removed]"
    }
   },
   "cell_type": "markdown",
   "metadata": {},
   "source": [
    "These are the Mean Digit Images\n",
    "\n",
    "![Class%200%20Mean.png](attachment:Class%200%20Mean.png) \n",
    "![Class%201%20Mean.png](attachment:Class%201%20Mean.png)\n",
    "![Class%202%20Mean.png](attachment:Class%202%20Mean.png)\n",
    "![Class%203%20Mean.png](attachment:Class%203%20Mean.png)\n",
    "![Class%204%20Mean.png](attachment:Class%204%20Mean.png)\n",
    "![Class%205%20Mean.png](attachment:Class%205%20Mean.png)\n",
    "![Class%206%20Mean.png](attachment:Class%206%20Mean.png)\n",
    "![Class%207%20Mean.png](attachment:Class%207%20Mean.png)\n",
    "![Class%208%20Mean.png](attachment:Class%208%20Mean.png)\n",
    "![Class%209%20Mean.png](attachment:Class%209%20Mean.png)"
   ]
  },
  {
   "attachments": {
    "Class%200%20Std_Dev.png": {
     "image/png": "[encoded data removed]"
    },
    "Class%201%20Std_Dev.png": {
     "image/png": "[encoded data removed]"
    },
    "Class%202%20Std_Dev.png": {
     "image/png": "[encoded data removed]"
    },
    "Class%203%20Std_Dev.png": {
     "image/png": "[encoded data removed]"
    },
    "Class%204%20Std_Dev.png": {
     "image/png": "[encoded data removed]"
    },
    "Class%205%20Std_Dev.png": {
     "image/png": "[encoded data removed]"
    },
    "Class%206%20Std_Dev.png": {
     "image/png": "[encoded data removed]"
    },
    "Class%207%20Std_Dev.png": {
     "image/png": "[encoded data removed]"
    },
    "Class%208%20Std_Dev.png": {
     "image/png": "[encoded data removed]"
    },
    "Class%209%20Std_Dev.png": {
     "image/png": "[encoded data removed]"
    }
   },
   "cell_type": "markdown",
   "metadata": {},
   "source": [
    "The Standard Deviation Images are :\n",
    "![Class%200%20Std_Dev.png](attachment:Class%200%20Std_Dev.png)\n",
    "![Class%201%20Std_Dev.png](attachment:Class%201%20Std_Dev.png)\n",
    "![Class%202%20Std_Dev.png](attachment:Class%202%20Std_Dev.png)\n",
    "![Class%203%20Std_Dev.png](attachment:Class%203%20Std_Dev.png)\n",
    "![Class%204%20Std_Dev.png](attachment:Class%204%20Std_Dev.png)\n",
    "![Class%205%20Std_Dev.png](attachment:Class%205%20Std_Dev.png)\n",
    "![Class%206%20Std_Dev.png](attachment:Class%206%20Std_Dev.png)\n",
    "![Class%207%20Std_Dev.png](attachment:Class%207%20Std_Dev.png)\n",
    "![Class%208%20Std_Dev.png](attachment:Class%208%20Std_Dev.png)\n",
    "![Class%209%20Std_Dev.png](attachment:Class%209%20Std_Dev.png)"
   ]
  },
  {
   "cell_type": "markdown",
   "metadata": {},
   "source": [
    "# Part 2 - Classify using Discriminant Analysis\n",
    "\n",
    "According to Bayesian Decision Rule, we try to minimize the Conditional Risk for the images. Instead of minimizing the Risk, we can maximize the posterior probability to find the corresponding class the image belongs to. Hence we can use Discriminant Analysis to classify the test images.\n",
    "\n",
    "Since the images are in Multivariate Normal Distribution, we derive the discriminant function by taking the log likelihood of the Guassian Distribution.\n",
    "\n",
    "### Guassian Distribution\n",
    "\n",
    "\\begin{align}\n",
    "p(x)=\\frac{1}{(2π)^{d/2}|\\sum|^{1/2}}exp(−\\frac{1}{2}(x−\\mu)^{′}\\sum^{−1}(x−\\mu))\n",
    "\\end{align}\n",
    "\n",
    "### Log Likelihood\n",
    "\n",
    "\\begin{align}\n",
    "g_{i}(x) = \\log p(x|\\omega_i) + \\log P(\\omega_i)\n",
    "\\end{align}\n",
    "\\begin{align}\n",
    "= -\\frac{1}{2}(x - \\mu_{i})^{-1} \\sum^{-1}(x - \\mu_{i}) - \\frac{d}{2} \\log (2 \\pi) -\\frac{1}{2} \\log |\\sum_i| + \\log P(\\omega_i)\n",
    "\\end{align}"
   ]
  },
  {
   "cell_type": "markdown",
   "metadata": {},
   "source": [
    "While calculating the Mean and Covariance, we see that the Covariance matrices are different for each class, hence we shall apply the Case 3 equation. This is the Quadratic Discriminant Function which is expressed as the following:\n",
    "\n",
    "### Quadratic Discriminant Functions\n",
    "\\begin{align}\n",
    "g_i = x^{t} W_i x + N_{i}^{t} x + B_{i0}\n",
    "\\end{align}\n",
    "\n",
    "\\begin{align}\n",
    "where, W_i = - \\frac{1}{2} \\sum_{i}^{-1} , N_{i} = \\sum_{i}^{-1} \\mu_{i} and B_{i0} = - \\frac{1}{2} \\mu_{i}^{t} \\sum_{i}^{-1} \\mu_{i} + ln P(w_i) - \\frac{1}{2} ln |\\sum_{i}| \n",
    "\\end{align}\n",
    "\n",
    "After finding the values of G(i) for each image, we then maximize G to find the corresponding class the test image belongs to. \n"
   ]
  },
  {
   "cell_type": "code",
   "execution_count": null,
   "metadata": {
    "ExecuteTime": {
     "end_time": "2019-03-01T22:01:11.792249Z",
     "start_time": "2019-03-01T22:00:46.405Z"
    }
   },
   "outputs": [],
   "source": [
    "def getCovarianceMat():\n",
    "    epsilon = 0.1\n",
    "    covarianceMat = []\n",
    "    invCovarianceMat = []\n",
    "    \n",
    "    for i in range(len(imgDigitStd)):\n",
    "        var = np.asarray(imgDigitStd[i]).reshape(28*28) + epsilon\n",
    "        coVar = np.diag(np.square(var))\n",
    "        covarianceMat.append(coVar)\n",
    "        \n",
    "        invCovarianceMat.append(inv(coVar))\n",
    "    return covarianceMat, invCovarianceMat"
   ]
  },
  {
   "cell_type": "code",
   "execution_count": null,
   "metadata": {
    "ExecuteTime": {
     "end_time": "2019-03-01T22:01:11.800815Z",
     "start_time": "2019-03-01T22:00:46.811Z"
    }
   },
   "outputs": [],
   "source": [
    "def quadDiscrFunc(x):\n",
    "    g = []\n",
    "    for i in range(10):\n",
    "        W = -1/2*invCovarianceMat[i]\n",
    "        N = np.matmul(invCovarianceMat[i],imgDigitMean[i].reshape(28*28,1))\n",
    "        s, det = np.linalg.slogdet(covarianceMat[i])\n",
    "        prior = np.log(1/10)\n",
    "        prod = np.matmul(-1/2*imgDigitMean[i].reshape(1,28*28),(np.matmul(invCovarianceMat[i],imgDigitMean[i].reshape(28*28,1))))\n",
    "        B0 = prod + prior\n",
    "        tempG = np.matmul(np.matmul(x.reshape(1,784),W),x.reshape(784,1)) + np.matmul(np.asarray(N).T,x)+ B0\n",
    "        g.append(tempG)\n",
    "    return np.argmax(g)"
   ]
  },
  {
   "cell_type": "markdown",
   "metadata": {},
   "source": [
    "### 0-1 Error Function\n",
    "\n",
    "This loss function is used to determine how many of the test images are of the correct label and how much is the error rate. This tells us the accuracy and the error rate. It is given by :\n",
    "\n",
    "\n",
    "\\begin{align}\n",
    "  \\lambda =\n",
    "\\begin{cases}\n",
    "     0, i=j\\\\\n",
    "    \\newline 1,i \\neq j\\\\\n",
    "\\end{cases}\n",
    "\\end{align}"
   ]
  },
  {
   "cell_type": "code",
   "execution_count": null,
   "metadata": {
    "ExecuteTime": {
     "end_time": "2019-03-01T22:01:11.808660Z",
     "start_time": "2019-03-01T22:00:47.513Z"
    }
   },
   "outputs": [],
   "source": [
    "def calAccuracy():\n",
    "    predicted = np.asarray(pred)\n",
    "    accuracy = (predicted == testLabels).sum()/len(testLabels)*100\n",
    "    return accuracy, 100-accuracy\n"
   ]
  },
  {
   "cell_type": "code",
   "execution_count": null,
   "metadata": {
    "ExecuteTime": {
     "end_time": "2019-03-01T22:01:11.817773Z",
     "start_time": "2019-03-01T22:00:47.744Z"
    }
   },
   "outputs": [],
   "source": [
    "covarianceMat, invCovarianceMat = getCovarianceMat()"
   ]
  },
  {
   "cell_type": "code",
   "execution_count": null,
   "metadata": {
    "ExecuteTime": {
     "end_time": "2019-03-01T22:01:11.847462Z",
     "start_time": "2019-03-01T22:00:48.151Z"
    }
   },
   "outputs": [],
   "source": [
    "pred = []\n",
    "for i in range(imgTestDF.shape[0]):\n",
    "    pred.append(quadDiscrFunc(imgTestDF.loc[i].values))\n",
    "#pred"
   ]
  },
  {
   "cell_type": "code",
   "execution_count": null,
   "metadata": {
    "ExecuteTime": {
     "end_time": "2019-03-01T22:01:11.863116Z",
     "start_time": "2019-03-01T22:00:48.445Z"
    }
   },
   "outputs": [],
   "source": [
    "acc , err = calAccuracy()\n",
    "print (\"Accuracy : \" + str(acc))\n",
    "print (\"Error Rate : \" + str(err))"
   ]
  },
  {
   "cell_type": "markdown",
   "metadata": {},
   "source": [
    "## Why it doesn't perform as good as many other methods on LeCuns web page?\n",
    "\n",
    "In this process, we are assuming that the images are in Gaussian Distribution. This may not actually be the case for the images. Since we are finding the discriminant function by utilizing the Gaussian Distribution, the whole process might be wrong and we will get a lower accuracy. The other methods such as SVM, NN all find an optimal hyperplance to seperate the classes to accurately predict the classes. This is not possible by using this method.  \n"
   ]
  },
  {
   "cell_type": "markdown",
   "metadata": {},
   "source": [
    "# Part 3 - Fisher Digits\n"
   ]
  },
  {
   "cell_type": "markdown",
   "metadata": {},
   "source": [
    "The scatter matrices are pair wise plot of several variables presented in a matrix format.\n",
    "\n",
    "The Scatter W (Sw) is the scatter plot within the classes, while the Scatter B (Sb) is between the classes."
   ]
  },
  {
   "cell_type": "code",
   "execution_count": null,
   "metadata": {
    "ExecuteTime": {
     "end_time": "2019-03-01T22:01:11.926301Z",
     "start_time": "2019-03-01T22:00:49.910Z"
    }
   },
   "outputs": [],
   "source": [
    "def scatterW():\n",
    "    Sw = np.empty([784,784])\n",
    "    for i in range(len(imgDigitMean)):\n",
    "        s = np.matmul((imgDF.loc[i] - imgDigitMean[i].reshape(784)).T,(imgDF.loc[i]- imgDigitMean[i].reshape(784)))\n",
    "        #print (s.shape)\n",
    "        Sw = Sw + s\n",
    "    return Sw"
   ]
  },
  {
   "cell_type": "code",
   "execution_count": null,
   "metadata": {
    "ExecuteTime": {
     "end_time": "2019-03-01T22:01:11.934779Z",
     "start_time": "2019-03-01T22:00:50.132Z"
    }
   },
   "outputs": [],
   "source": [
    "def totalMean():\n",
    "    Mu = np.empty([784])\n",
    "    for i in range(len(imgDigitMean)):\n",
    "        Mu = Mu + np.asarray(imgDigitMean[i]).reshape(784) * imgDF.loc[i].shape[0]\n",
    "        #print (Mu)\n",
    "    \n",
    "    return Mu/imgDF.shape[0]"
   ]
  },
  {
   "cell_type": "code",
   "execution_count": null,
   "metadata": {
    "ExecuteTime": {
     "end_time": "2019-03-01T22:01:11.942118Z",
     "start_time": "2019-03-01T22:00:50.289Z"
    }
   },
   "outputs": [],
   "source": [
    "def scatterB():\n",
    "    Sb = np.empty([784,784])\n",
    "    for i in range(len(imgDigitMean)):\n",
    "        Sb = Sb + (imgDF.loc[i].shape[0] * (np.matmul((imgDigitMean[i].reshape(784) - Mu),(imgDigitMean[i].reshape(784) - Mu).T)))\n",
    "    return Sb\n",
    "        "
   ]
  },
  {
   "cell_type": "code",
   "execution_count": null,
   "metadata": {
    "ExecuteTime": {
     "end_time": "2019-03-01T22:01:11.950006Z",
     "start_time": "2019-03-01T22:00:50.470Z"
    },
    "scrolled": true
   },
   "outputs": [],
   "source": [
    "Sw = scatterW()\n",
    "Mu = totalMean()\n",
    "Sb = scatterB()"
   ]
  },
  {
   "cell_type": "markdown",
   "metadata": {},
   "source": [
    "Here we find the eigen values and vectors by taking the product of inv(Sw) and Sb\n",
    "Then we take the eigen vectors which corresponds to eigen values which are high and of the desired Dimensionality. This will be your new feature vector."
   ]
  },
  {
   "cell_type": "code",
   "execution_count": null,
   "metadata": {
    "ExecuteTime": {
     "end_time": "2019-03-01T22:01:11.959757Z",
     "start_time": "2019-03-01T22:00:52.335Z"
    }
   },
   "outputs": [],
   "source": [
    "mat = np.dot(np.linalg.pinv(Sw), Sb)\n",
    "eigvals, eigvecs = np.linalg.eig(mat)\n",
    "\n",
    "np.argmax(eigvals)\n",
    "eigvals[:300]\n",
    "W = eigvecs[:3]\n",
    "W.shape\n",
    "#eigvecs.shape\n",
    "y = np.matmul( W,testImgs.T)\n",
    "\n",
    "y.T.shape\n",
    "z = y.T"
   ]
  },
  {
   "cell_type": "code",
   "execution_count": null,
   "metadata": {},
   "outputs": [],
   "source": []
  },
  {
   "cell_type": "code",
   "execution_count": null,
   "metadata": {},
   "outputs": [],
   "source": []
  }
 ],
 "metadata": {
  "kernelspec": {
   "display_name": "Python 3",
   "language": "python",
   "name": "python3"
  },
  "language_info": {
   "codemirror_mode": {
    "name": "ipython",
    "version": 3
   },
   "file_extension": ".py",
   "mimetype": "text/x-python",
   "name": "python",
   "nbconvert_exporter": "python",
   "pygments_lexer": "ipython3",
   "version": "3.7.1"
  },
  "latex_envs": {
   "LaTeX_envs_menu_present": true,
   "autoclose": false,
   "autocomplete": true,
   "bibliofile": "biblio.bib",
   "cite_by": "apalike",
   "current_citInitial": 1,
   "eqLabelWithNumbers": true,
   "eqNumInitial": 1,
   "hotkeys": {
    "equation": "Ctrl-E",
    "itemize": "Ctrl-I"
   },
   "labels_anchors": false,
   "latex_user_defs": false,
   "report_style_numbering": false,
   "user_envs_cfg": false
  },
  "toc": {
   "base_numbering": 1,
   "nav_menu": {},
   "number_sections": true,
   "sideBar": true,
   "skip_h1_title": false,
   "title_cell": "Table of Contents",
   "title_sidebar": "Contents",
   "toc_cell": false,
   "toc_position": {},
   "toc_section_display": true,
   "toc_window_display": false
  },
  "varInspector": {
   "cols": {
    "lenName": 16,
    "lenType": 16,
    "lenVar": 40
   },
   "kernels_config": {
    "python": {
     "delete_cmd_postfix": "",
     "delete_cmd_prefix": "del ",
     "library": "var_list.py",
     "varRefreshCmd": "print(var_dic_list())"
    },
    "r": {
     "delete_cmd_postfix": ") ",
     "delete_cmd_prefix": "rm(",
     "library": "var_list.r",
     "varRefreshCmd": "cat(var_dic_list()) "
    }
   },
   "types_to_exclude": [
    "module",
    "function",
    "builtin_function_or_method",
    "instance",
    "_Feature"
   ],
   "window_display": false
  }
 },
 "nbformat": 4,
 "nbformat_minor": 2
}
